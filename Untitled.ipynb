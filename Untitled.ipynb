{
 "cells": [
  {
   "cell_type": "code",
   "execution_count": 1,
   "id": "13f3edaa",
   "metadata": {},
   "outputs": [
    {
     "name": "stderr",
     "output_type": "stream",
     "text": [
      "/Users/jaguar2801/opt/anaconda3/lib/python3.9/site-packages/pandas/core/computation/expressions.py:21: UserWarning: Pandas requires version '2.8.4' or newer of 'numexpr' (version '2.7.3' currently installed).\n",
      "  from pandas.core.computation.check import NUMEXPR_INSTALLED\n",
      "/Users/jaguar2801/opt/anaconda3/lib/python3.9/site-packages/pandas/core/arrays/masked.py:60: UserWarning: Pandas requires version '1.3.6' or newer of 'bottleneck' (version '1.3.2' currently installed).\n",
      "  from pandas.core import (\n"
     ]
    }
   ],
   "source": [
    "import pandas as pd\n",
    "import numpy as np\n",
    "import matplotlib.pyplot as plt\n",
    "import networkx as nx\n",
    "from pyvis.network import Network\n",
    "import random"
   ]
  },
  {
   "cell_type": "code",
   "execution_count": 51,
   "id": "db08283e",
   "metadata": {
    "scrolled": false
   },
   "outputs": [
    {
     "data": {
      "text/plain": [
       "[('27', '12'),\n",
       " ('24', '28'),\n",
       " ('13', '1'),\n",
       " ('8', '16'),\n",
       " ('15', '12'),\n",
       " ('29', '25'),\n",
       " ('26', '9'),\n",
       " ('15', '11'),\n",
       " ('18', '28'),\n",
       " ('29', '6'),\n",
       " ('16', '4'),\n",
       " ('9', '4'),\n",
       " ('24', '3'),\n",
       " ('19', '25'),\n",
       " ('8', '29'),\n",
       " ('17', '22'),\n",
       " ('25', '19'),\n",
       " ('28', '4'),\n",
       " ('9', '3'),\n",
       " ('23', '2'),\n",
       " ('28', '27'),\n",
       " ('21', '10'),\n",
       " ('15', '17'),\n",
       " ('3', '11'),\n",
       " ('13', '10'),\n",
       " ('19', '20'),\n",
       " ('29', '6'),\n",
       " ('17', '15'),\n",
       " ('14', '27'),\n",
       " ('16', '8'),\n",
       " ('1', '25'),\n",
       " ('29', '17'),\n",
       " ('29', '0'),\n",
       " ('2', '23'),\n",
       " ('26', '12'),\n",
       " ('22', '26'),\n",
       " ('25', '21'),\n",
       " ('20', '0'),\n",
       " ('19', '15'),\n",
       " ('26', '27'),\n",
       " ('10', '7'),\n",
       " ('23', '10'),\n",
       " ('22', '27'),\n",
       " ('2', '6'),\n",
       " ('29', '18'),\n",
       " ('7', '25'),\n",
       " ('4', '25'),\n",
       " ('17', '14'),\n",
       " ('2', '10'),\n",
       " ('28', '16')]"
      ]
     },
     "execution_count": 51,
     "metadata": {},
     "output_type": "execute_result"
    }
   ],
   "source": [
    "node_list=[]\n",
    "random_list=[]\n",
    "random.seed(0)\n",
    "node_nomber=50 #何個線を引くか\n",
    "edge_nomber=30 #何個点を作るか\n",
    "for i in range(node_nomber):\n",
    "    r_,l_=random.sample(range(edge_nomber),2)\n",
    "    node_list.append((str(r_),str(l_)))\n",
    "node_list"
   ]
  },
  {
   "cell_type": "code",
   "execution_count": 58,
   "id": "cb24df76",
   "metadata": {
    "scrolled": true
   },
   "outputs": [
    {
     "data": {
      "text/plain": [
       "[{'from': '26', 'to': '9'},\n",
       " {'from': '3', 'to': '11'},\n",
       " {'from': '1', 'to': '25'},\n",
       " {'from': '29', 'to': '6'},\n",
       " {'from': '19', 'to': '25'},\n",
       " {'from': '29', 'to': '0'},\n",
       " {'from': '24', 'to': '3'},\n",
       " {'from': '4', 'to': '25'},\n",
       " {'from': '21', 'to': '10'},\n",
       " {'from': '17', 'to': '15'},\n",
       " {'from': '29', 'to': '17'},\n",
       " {'from': '13', 'to': '1'},\n",
       " {'from': '15', 'to': '12'},\n",
       " {'from': '25', 'to': '21'},\n",
       " {'from': '15', 'to': '11'},\n",
       " {'from': '28', 'to': '27'},\n",
       " {'from': '15', 'to': '17'},\n",
       " {'from': '2', 'to': '23'},\n",
       " {'from': '28', 'to': '16'},\n",
       " {'from': '14', 'to': '27'},\n",
       " {'from': '16', 'to': '8'},\n",
       " {'from': '2', 'to': '10'},\n",
       " {'from': '7', 'to': '25'},\n",
       " {'from': '16', 'to': '4'},\n",
       " {'from': '26', 'to': '12'},\n",
       " {'from': '2', 'to': '6'},\n",
       " {'from': '22', 'to': '26'},\n",
       " {'from': '28', 'to': '4'},\n",
       " {'from': '17', 'to': '22'},\n",
       " {'from': '17', 'to': '14'},\n",
       " {'from': '27', 'to': '12'},\n",
       " {'from': '10', 'to': '7'},\n",
       " {'from': '23', 'to': '10'},\n",
       " {'from': '19', 'to': '15'},\n",
       " {'from': '8', 'to': '29'},\n",
       " {'from': '29', 'to': '18'},\n",
       " {'from': '23', 'to': '2'},\n",
       " {'from': '24', 'to': '28'},\n",
       " {'from': '13', 'to': '10'},\n",
       " {'from': '18', 'to': '28'},\n",
       " {'from': '22', 'to': '27'},\n",
       " {'from': '25', 'to': '19'},\n",
       " {'from': '26', 'to': '27'},\n",
       " {'from': '29', 'to': '25'},\n",
       " {'from': '19', 'to': '20'},\n",
       " {'from': '9', 'to': '3'},\n",
       " {'from': '20', 'to': '0'},\n",
       " {'from': '9', 'to': '4'},\n",
       " {'from': '8', 'to': '16'}]"
      ]
     },
     "execution_count": 58,
     "metadata": {},
     "output_type": "execute_result"
    }
   ],
   "source": [
    "orig_nodes=[]\n",
    "for i in range(len(node_list)):\n",
    "    orig_nodes.append(node_list[i][0])\n",
    "    orig_nodes.append(node_list[i][1])\n",
    "    \n",
    "    \n",
    "edges=[]\n",
    "nodes=[]\n",
    "for i in sorted(set(orig_nodes),key=float):\n",
    "    nodes.append({'id':i,'label':i})\n",
    "    \n",
    "for i in set(node_list):\n",
    "    edges.append({'from':i[0],'to':i[1]})\n",
    "nodes_oo=[{'id': '0', 'label': '0'}]\n",
    "edges"
   ]
  },
  {
   "cell_type": "code",
   "execution_count": 53,
   "id": "e93bf21a",
   "metadata": {
    "scrolled": true
   },
   "outputs": [
    {
     "name": "stdout",
     "output_type": "stream",
     "text": [
      "Warning: When  cdn_resources is 'local' jupyter notebook has issues displaying graphics on chrome/safari. Use cdn_resources='in_line' or cdn_resources='remote' if you have issues viewing graphics in a notebook.\n"
     ]
    }
   ],
   "source": [
    "G = nx.Graph()\n",
    "G.add_edges_from(node_list)\n",
    "net=Network(notebook=True)\n",
    "net.from_nx(G)\n",
    "#net.show('exsample.html')"
   ]
  },
  {
   "cell_type": "code",
   "execution_count": 73,
   "id": "d71c9ba2",
   "metadata": {
    "scrolled": true
   },
   "outputs": [],
   "source": [
    "#from dash import Dash, dcc, html, callback, Output, Input\n",
    "import dash\n",
    "import visdcc\n",
    "import dash_core_components as dcc\n",
    "import dash_html_components as html\n",
    "from dash.dependencies import Input,Output,State\n",
    "nodes_op=[{'label':'Full(時間がかかります)','value':'full'}]\n",
    "for i in nodes: \n",
    "    nodes_op.append({'label':i['id'],'value':i['label']})\n",
    "    \n"
   ]
  },
  {
   "cell_type": "code",
   "execution_count": 74,
   "id": "e6fa705f",
   "metadata": {
    "scrolled": false
   },
   "outputs": [
    {
     "data": {
      "text/html": [
       "\n",
       "        <iframe\n",
       "            width=\"100%\"\n",
       "            height=\"650\"\n",
       "            src=\"http://127.0.0.1:8050/\"\n",
       "            frameborder=\"0\"\n",
       "            allowfullscreen\n",
       "            \n",
       "        ></iframe>\n",
       "        "
      ],
      "text/plain": [
       "<IPython.lib.display.IFrame at 0x7ff5686acd00>"
      ]
     },
     "metadata": {},
     "output_type": "display_data"
    }
   ],
   "source": [
    "app=dash.Dash()\n",
    "app.layout=html.Div([html.H1('Network'),\n",
    "                    html.Div([dcc.Dropdown(id='node',options=nodes_op,value='full')]),\n",
    "    visdcc.Network(id='net',data={'nodes':nodes,'edges':edges},\n",
    "                   options=dict(height='300px',width='100%'))])\n",
    "@app.callback(\n",
    "    Output(\"net\", 'data'),\n",
    "    Input('node','value'))\n",
    "def myfun(x):\n",
    "    #x=data['nodes']\n",
    "    #edges=data['edges']\n",
    "    if not type(x)==type('str'):\n",
    "        x='0'\n",
    "    edges_=[]\n",
    "    nodes_op_=[]\n",
    "    if x=='full':\n",
    "        nodes_=nodes\n",
    "        edges_=edges\n",
    "    else:\n",
    "        for i in edges:\n",
    "            for j in i.values():\n",
    "                if str(j)== x:\n",
    "                    edges_.append(i)\n",
    "        for i in edges_:\n",
    "            nodes_op_.append(i['from'])\n",
    "            nodes_op_.append(i['to'])\n",
    "        nodes_=[]\n",
    "        for i in set(nodes_op_):\n",
    "            nodes_.append({'id':i,'label':i})\n",
    "    r_={'nodes':nodes_,'edges':edges_}\n",
    "    \n",
    "    return r_\n",
    "app.run_server(mode=\"inline\",debug=True)"
   ]
  },
  {
   "cell_type": "code",
   "execution_count": 7,
   "id": "a8bf51dc",
   "metadata": {
    "scrolled": true
   },
   "outputs": [
    {
     "data": {
      "text/plain": [
       "{'nodes': [{'id': '4', 'label': '4'},\n",
       "  {'id': '0', 'label': '0'},\n",
       "  {'id': '5', 'label': '5'},\n",
       "  {'id': '6', 'label': '6'},\n",
       "  {'id': '2', 'label': '2'},\n",
       "  {'id': '3', 'label': '3'},\n",
       "  {'id': '1', 'label': '1'},\n",
       "  {'id': '7', 'label': '7'}],\n",
       " 'edges': [{'from': '5', 'to': '4'},\n",
       "  {'from': '2', 'to': '7'},\n",
       "  {'from': '1', 'to': '4'},\n",
       "  {'from': '4', 'to': '3'},\n",
       "  {'from': '4', 'to': '7'},\n",
       "  {'from': '6', 'to': '7'},\n",
       "  {'from': '6', 'to': '0'},\n",
       "  {'from': '2', 'to': '6'},\n",
       "  {'from': '7', 'to': '3'},\n",
       "  {'from': '3', 'to': '4'}]}"
      ]
     },
     "execution_count": 7,
     "metadata": {},
     "output_type": "execute_result"
    }
   ],
   "source": []
  },
  {
   "cell_type": "code",
   "execution_count": 8,
   "id": "e25238ac",
   "metadata": {},
   "outputs": [
    {
     "name": "stdout",
     "output_type": "stream",
     "text": [
      "{'from': '6', 'to': '0'}\n"
     ]
    }
   ],
   "source": [
    "for i in edges:\n",
    "    for j in i.values():\n",
    "        if j in '0':\n",
    "            print(i)"
   ]
  },
  {
   "cell_type": "code",
   "execution_count": 9,
   "id": "5083db32",
   "metadata": {},
   "outputs": [
    {
     "data": {
      "text/plain": [
       "dict_values(['3', '4'])"
      ]
     },
     "execution_count": 9,
     "metadata": {},
     "output_type": "execute_result"
    }
   ],
   "source": [
    "i.values()"
   ]
  },
  {
   "cell_type": "code",
   "execution_count": null,
   "id": "e26c635e",
   "metadata": {},
   "outputs": [],
   "source": []
  }
 ],
 "metadata": {
  "kernelspec": {
   "display_name": "kddi",
   "language": "python",
   "name": "kddi_data"
  },
  "language_info": {
   "codemirror_mode": {
    "name": "ipython",
    "version": 3
   },
   "file_extension": ".py",
   "mimetype": "text/x-python",
   "name": "python",
   "nbconvert_exporter": "python",
   "pygments_lexer": "ipython3",
   "version": "3.9.7"
  }
 },
 "nbformat": 4,
 "nbformat_minor": 5
}
