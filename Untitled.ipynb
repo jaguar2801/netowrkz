{
 "cells": [
  {
   "cell_type": "code",
   "execution_count": 1,
   "id": "168b92ba",
   "metadata": {},
   "outputs": [
    {
     "name": "stderr",
     "output_type": "stream",
     "text": [
      "/Users/jaguar2801/opt/anaconda3/lib/python3.9/site-packages/pandas/core/computation/expressions.py:21: UserWarning: Pandas requires version '2.8.4' or newer of 'numexpr' (version '2.7.3' currently installed).\n",
      "  from pandas.core.computation.check import NUMEXPR_INSTALLED\n",
      "/Users/jaguar2801/opt/anaconda3/lib/python3.9/site-packages/pandas/core/arrays/masked.py:60: UserWarning: Pandas requires version '1.3.6' or newer of 'bottleneck' (version '1.3.2' currently installed).\n",
      "  from pandas.core import (\n"
     ]
    }
   ],
   "source": [
    "import pandas as pd\n",
    "import numpy as np\n",
    "import matplotlib.pyplot as plt\n",
    "import networkx as nx\n",
    "from pyvis.network import Network\n",
    "import random"
   ]
  },
  {
   "cell_type": "code",
   "execution_count": 2,
   "id": "d3c14de3",
   "metadata": {
    "scrolled": false
   },
   "outputs": [
    {
     "data": {
      "text/plain": [
       "[('6', '7'),\n",
       " ('6', '0'),\n",
       " ('4', '7'),\n",
       " ('7', '3'),\n",
       " ('4', '3'),\n",
       " ('5', '4'),\n",
       " ('3', '4'),\n",
       " ('2', '7'),\n",
       " ('2', '6'),\n",
       " ('1', '4')]"
      ]
     },
     "execution_count": 2,
     "metadata": {},
     "output_type": "execute_result"
    }
   ],
   "source": [
    "node_list=[]\n",
    "random_list=[]\n",
    "random.seed(0)\n",
    "for i in range(10):\n",
    "    r_,l_=random.sample(range(8),2)\n",
    "    node_list.append((str(r_),str(l_)))\n",
    "node_list"
   ]
  },
  {
   "cell_type": "code",
   "execution_count": 3,
   "id": "3620863f",
   "metadata": {},
   "outputs": [],
   "source": [
    "orig_nodes=[]\n",
    "for i in range(len(node_list)):\n",
    "    orig_nodes.append(node_list[i][0])\n",
    "    orig_nodes.append(node_list[i][1])\n",
    "    \n",
    "    \n",
    "edges=[]\n",
    "nodes=[]\n",
    "for i in set(orig_nodes):\n",
    "    nodes.append({'id':i,'label':i})\n",
    "    \n",
    "for i in set(node_list):\n",
    "    edges.append({'from':i[0],'to':i[1]})\n",
    "edges\n",
    "nodes\n",
    "nodes_oo=[{'id': '0', 'label': '0'}]"
   ]
  },
  {
   "cell_type": "code",
   "execution_count": null,
   "id": "dafed321",
   "metadata": {},
   "outputs": [],
   "source": []
  },
  {
   "cell_type": "code",
   "execution_count": 101,
   "id": "d5128beb",
   "metadata": {
    "scrolled": true
   },
   "outputs": [
    {
     "name": "stdout",
     "output_type": "stream",
     "text": [
      "Warning: When  cdn_resources is 'local' jupyter notebook has issues displaying graphics on chrome/safari. Use cdn_resources='in_line' or cdn_resources='remote' if you have issues viewing graphics in a notebook.\n"
     ]
    }
   ],
   "source": [
    "G = nx.Graph()\n",
    "G.add_edges_from(node_list)\n",
    "net=Network(notebook=True)\n",
    "net.from_nx(G)\n",
    "#net.show('exsample.html')"
   ]
  },
  {
   "cell_type": "code",
   "execution_count": 5,
   "id": "9860508c",
   "metadata": {
    "scrolled": true
   },
   "outputs": [
    {
     "name": "stderr",
     "output_type": "stream",
     "text": [
      "/var/folders/t7/f4q9tl193h70nlp1681srm680000gn/T/ipykernel_3852/471712104.py:4: UserWarning: \n",
      "The dash_core_components package is deprecated. Please replace\n",
      "`import dash_core_components as dcc` with `from dash import dcc`\n",
      "  import dash_core_components as dcc\n",
      "/var/folders/t7/f4q9tl193h70nlp1681srm680000gn/T/ipykernel_3852/471712104.py:5: UserWarning: \n",
      "The dash_html_components package is deprecated. Please replace\n",
      "`import dash_html_components as html` with `from dash import html`\n",
      "  import dash_html_components as html\n"
     ]
    }
   ],
   "source": [
    "#from dash import Dash, dcc, html, callback, Output, Input\n",
    "import dash\n",
    "import visdcc\n",
    "import dash_core_components as dcc\n",
    "import dash_html_components as html\n",
    "from dash.dependencies import Input,Output,State\n",
    "nodes_op=[]\n",
    "for i in nodes: \n",
    "    nodes_op.append({'label':i['id'],'value':i['label']})"
   ]
  },
  {
   "cell_type": "code",
   "execution_count": 100,
   "id": "ad23ac59",
   "metadata": {
    "scrolled": false
   },
   "outputs": [
    {
     "data": {
      "text/html": [
       "\n",
       "        <iframe\n",
       "            width=\"100%\"\n",
       "            height=\"650\"\n",
       "            src=\"http://127.0.0.1:8050/\"\n",
       "            frameborder=\"0\"\n",
       "            allowfullscreen\n",
       "            \n",
       "        ></iframe>\n",
       "        "
      ],
      "text/plain": [
       "<IPython.lib.display.IFrame at 0x7fca8c561c40>"
      ]
     },
     "metadata": {},
     "output_type": "display_data"
    }
   ],
   "source": [
    "app=dash.Dash()\n",
    "app.layout=html.Div([\n",
    "    visdcc.Network(id='net',data={'nodes':nodes,'edges':edges},\n",
    "                   options=dict(height='300px',width='100%')),\n",
    "    dcc.RadioItems(id='node',options=nodes_op,value='0')])\n",
    "@app.callback(\n",
    "    Output(\"net\", 'data'),\n",
    "    Input('node','value'))\n",
    "def myfun(x):\n",
    "    #x=data['nodes']\n",
    "    #edges=data['edges']\n",
    "    if not type(x)==type('str'):\n",
    "        x='7'\n",
    "    edges_=[]\n",
    "    nodes_op_=[]\n",
    "    \n",
    "    for i in edges:\n",
    "        for j in i.values():\n",
    "            if j in x:\n",
    "                edges_.append(i)\n",
    "    for i in edges_:\n",
    "        nodes_op_.append(i['from'])\n",
    "        nodes_op_.append(i['to'])\n",
    "    nodes_=[]\n",
    "    for i in set(nodes_op_):\n",
    "        nodes_.append({'id':i,'label':i})\n",
    "    r_={'nodes':nodes_,'edges':edges_}\n",
    "    \n",
    "    return r_\n",
    "app.run_server(mode=\"inline\",debug=True)"
   ]
  },
  {
   "cell_type": "code",
   "execution_count": 74,
   "id": "ef403534",
   "metadata": {},
   "outputs": [
    {
     "data": {
      "text/plain": [
       "{'nodes': [{'id': '5', 'label': '5'},\n",
       "  {'id': '0', 'label': '0'},\n",
       "  {'id': '4', 'label': '4'},\n",
       "  {'id': '3', 'label': '3'},\n",
       "  {'id': '6', 'label': '6'},\n",
       "  {'id': '2', 'label': '2'},\n",
       "  {'id': '1', 'label': '1'},\n",
       "  {'id': '7', 'label': '7'}],\n",
       " 'edges': [{'from': '6', 'to': '0'},\n",
       "  {'from': '3', 'to': '4'},\n",
       "  {'from': '4', 'to': '7'},\n",
       "  {'from': '6', 'to': '7'},\n",
       "  {'from': '7', 'to': '3'},\n",
       "  {'from': '5', 'to': '4'},\n",
       "  {'from': '4', 'to': '3'},\n",
       "  {'from': '2', 'to': '6'},\n",
       "  {'from': '2', 'to': '7'},\n",
       "  {'from': '1', 'to': '4'}]}"
      ]
     },
     "execution_count": 74,
     "metadata": {},
     "output_type": "execute_result"
    }
   ],
   "source": [
    "{'nodes':nodes,'edges':edges}"
   ]
  },
  {
   "cell_type": "code",
   "execution_count": 7,
   "id": "fa2d5b77",
   "metadata": {},
   "outputs": [
    {
     "name": "stdout",
     "output_type": "stream",
     "text": [
      "{'from': '6', 'to': '0'}\n"
     ]
    }
   ],
   "source": [
    "for i in edges:\n",
    "    for j in i.values():\n",
    "        if j in '0':\n",
    "            print(i)"
   ]
  },
  {
   "cell_type": "code",
   "execution_count": 8,
   "id": "d896db82",
   "metadata": {},
   "outputs": [
    {
     "data": {
      "text/plain": [
       "dict_values(['1', '4'])"
      ]
     },
     "execution_count": 8,
     "metadata": {},
     "output_type": "execute_result"
    }
   ],
   "source": [
    "i.values()"
   ]
  },
  {
   "cell_type": "code",
   "execution_count": null,
   "id": "be51cc1a",
   "metadata": {},
   "outputs": [],
   "source": []
  }
 ],
 "metadata": {
  "kernelspec": {
   "display_name": "kddi",
   "language": "python",
   "name": "kddi_data"
  },
  "language_info": {
   "codemirror_mode": {
    "name": "ipython",
    "version": 3
   },
   "file_extension": ".py",
   "mimetype": "text/x-python",
   "name": "python",
   "nbconvert_exporter": "python",
   "pygments_lexer": "ipython3",
   "version": "3.9.7"
  }
 },
 "nbformat": 4,
 "nbformat_minor": 5
}
